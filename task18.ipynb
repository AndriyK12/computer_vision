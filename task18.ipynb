{
  "nbformat": 4,
  "nbformat_minor": 0,
  "metadata": {
    "colab": {
      "provenance": []
    },
    "kernelspec": {
      "name": "python3",
      "display_name": "Python 3"
    },
    "language_info": {
      "name": "python"
    }
  },
  "cells": [
    {
      "cell_type": "code",
      "source": [
        "from google.colab import drive\n",
        "drive.mount('/content/drive')"
      ],
      "metadata": {
        "colab": {
          "base_uri": "https://localhost:8080/"
        },
        "id": "XGNyZE-0gffc",
        "outputId": "d3e53377-a6ef-4eba-9b57-87046a8978e8"
      },
      "execution_count": null,
      "outputs": [
        {
          "output_type": "stream",
          "name": "stdout",
          "text": [
            "Mounted at /content/drive\n"
          ]
        }
      ]
    },
    {
      "cell_type": "code",
      "execution_count": null,
      "metadata": {
        "id": "wa3EwPpKgUpL"
      },
      "outputs": [],
      "source": [
        "import os\n",
        "import cv2\n",
        "import numpy as np\n",
        "from tqdm import tqdm"
      ]
    },
    {
      "cell_type": "code",
      "source": [
        "def rotate_image(image, angle):\n",
        "    h, w = image.shape[:2]\n",
        "    M = cv2.getRotationMatrix2D((w/2,h/2), angle, 1.0)\n",
        "    return cv2.warpAffine(image, M, (w, h), borderMode=cv2.BORDER_REFLECT)\n",
        "\n",
        "def change_brightness(image, factor):\n",
        "    hsv = cv2.cvtColor(image, cv2.COLOR_BGR2HSV).astype(np.float32)\n",
        "    hsv[...,2] = np.clip(hsv[...,2] * factor, 0, 255)\n",
        "    return cv2.cvtColor(hsv.astype(np.uint8), cv2.COLOR_HSV2BGR)\n",
        "\n",
        "def add_gaussian_noise(image, mean=0, sigma=15):\n",
        "    noise = np.random.normal(mean, sigma, image.shape).astype(np.float32)\n",
        "    noisy = image.astype(np.float32) + noise\n",
        "    return np.clip(noisy, 0, 255).astype(np.uint8)"
      ],
      "metadata": {
        "id": "WVvrEnpfgfa_"
      },
      "execution_count": null,
      "outputs": []
    },
    {
      "cell_type": "code",
      "source": [
        "def augment_and_save(input_dir, output_dir,\n",
        "                     n_rotations=2, n_brightness=2, n_noise=2):\n",
        "    \"\"\"\n",
        "      - n_rotations випадкових обертів\n",
        "      - n_brightness випадкових зміни яскравості\n",
        "      - n_noise випадкових варіантів з шумом\n",
        "    \"\"\"\n",
        "    os.makedirs(output_dir, exist_ok=True)\n",
        "    for cls in os.listdir(input_dir):\n",
        "        src_cls = os.path.join(input_dir, cls)\n",
        "        dst_cls = os.path.join(output_dir, cls)\n",
        "        if not os.path.isdir(src_cls):\n",
        "            continue\n",
        "        os.makedirs(dst_cls, exist_ok=True)\n",
        "\n",
        "        for fname in tqdm(os.listdir(src_cls), desc=f\"Class {cls}\"):\n",
        "            if not fname.lower().endswith(('.jpg','.png','.bmp','jpeg')):\n",
        "                continue\n",
        "            img_path = os.path.join(src_cls, fname)\n",
        "            img = cv2.imread(img_path)\n",
        "            if img is None:\n",
        "                continue\n",
        "\n",
        "            # 1) копіюємо оригінал\n",
        "            base, ext = os.path.splitext(fname)\n",
        "            cv2.imwrite(os.path.join(dst_cls, f\"{base}_orig{ext}\"), img)\n",
        "\n",
        "            # 2) обертання\n",
        "            for i in range(n_rotations):\n",
        "                angle = np.random.uniform(-30, 30)\n",
        "                aug = rotate_image(img, angle)\n",
        "                cv2.imwrite(os.path.join(dst_cls, f\"{base}_rot{i}{ext}\"), aug)\n",
        "\n",
        "            # 3) яскравість\n",
        "            for i in range(n_brightness):\n",
        "                factor = np.random.uniform(0.7, 1.3)\n",
        "                aug = change_brightness(img, factor)\n",
        "                cv2.imwrite(os.path.join(dst_cls, f\"{base}_bright{i}{ext}\"), aug)\n",
        "\n",
        "            # 4) шум\n",
        "            for i in range(n_noise):\n",
        "                aug = add_gaussian_noise(img, mean=0, sigma=15)\n",
        "                cv2.imwrite(os.path.join(dst_cls, f\"{base}_noise{i}{ext}\"), aug)"
      ],
      "metadata": {
        "id": "k45gL8ixgfX5"
      },
      "execution_count": null,
      "outputs": []
    },
    {
      "cell_type": "code",
      "source": [
        "augment_and_save(\n",
        "    input_dir=\"/content/drive/MyDrive/105_classes_pins_dataset\",\n",
        "    output_dir=\"/content/drive/MyDrive/105_classes_pins_dataset_augmented\",\n",
        "    n_rotations=3,\n",
        "    n_brightness=3,\n",
        "    n_noise=3\n",
        ")"
      ],
      "metadata": {
        "colab": {
          "base_uri": "https://localhost:8080/"
        },
        "id": "dFJW5J3GgfTK",
        "outputId": "ef43603f-ee29-4d27-f356-cb782006112e"
      },
      "execution_count": null,
      "outputs": [
        {
          "output_type": "stream",
          "name": "stderr",
          "text": [
            "Class pins_Zoe Saldana: 100%|██████████| 186/186 [00:31<00:00,  5.96it/s]\n",
            "Class pins_Tuppence Middleton: 100%|██████████| 133/133 [00:21<00:00,  6.26it/s]\n",
            "Class pins_Tom Hardy: 100%|██████████| 198/198 [00:32<00:00,  6.15it/s]\n",
            "Class pins_Zac Efron: 100%|██████████| 191/191 [00:27<00:00,  6.89it/s]\n",
            "Class pins_Tom Holland: 100%|██████████| 189/189 [00:26<00:00,  7.13it/s]\n",
            "Class pins_Ursula Corbero: 100%|██████████| 172/172 [00:26<00:00,  6.55it/s]\n",
            "Class pins_Wentworth Miller: 100%|██████████| 179/179 [00:27<00:00,  6.56it/s]\n",
            "Class pins_Tom Hiddleston: 100%|██████████| 181/181 [00:27<00:00,  6.63it/s]\n",
            "Class pins_Zendaya: 100%|██████████| 138/138 [00:20<00:00,  6.76it/s]\n",
            "Class pins_tom ellis: 100%|██████████| 180/180 [00:30<00:00,  5.82it/s]\n",
            "Class pins_Selena Gomez: 100%|██████████| 186/186 [00:28<00:00,  6.44it/s]\n",
            "Class pins_Sarah Wayne Callies: 100%|██████████| 159/159 [00:23<00:00,  6.67it/s]\n",
            "Class pins_Robert Downey Jr: 100%|██████████| 233/233 [00:37<00:00,  6.13it/s]\n",
            "Class pins_Shakira Isabel Mebarak: 100%|██████████| 154/154 [00:23<00:00,  6.52it/s]\n",
            "Class pins_Sophie Turner: 100%|██████████| 204/204 [00:39<00:00,  5.21it/s]\n",
            "Class pins_Tom Cruise: 100%|██████████| 192/192 [00:30<00:00,  6.23it/s]\n",
            "Class pins_Taylor Swift: 100%|██████████| 131/131 [00:20<00:00,  6.55it/s]\n",
            "Class pins_Stephen Amell: 100%|██████████| 159/159 [00:25<00:00,  6.32it/s]\n",
            "Class pins_Robert De Niro: 100%|██████████| 156/156 [00:25<00:00,  6.03it/s]\n",
            "Class pins_scarlett johansson: 100%|██████████| 201/201 [00:36<00:00,  5.44it/s]\n",
            "Class pins_Rihanna: 100%|██████████| 133/133 [00:22<00:00,  6.02it/s]\n",
            "Class pins_Richard Harmon: 100%|██████████| 148/148 [00:21<00:00,  6.75it/s]\n",
            "Class pins_Nadia Hilker: 100%|██████████| 133/133 [00:19<00:00,  6.82it/s]\n",
            "Class pins_Rami Malek: 100%|██████████| 160/160 [00:24<00:00,  6.54it/s]\n",
            "Class pins_Natalie Dormer: 100%|██████████| 198/198 [00:32<00:00,  6.04it/s]\n",
            "Class pins_Pedro Alonso: 100%|██████████| 125/125 [00:18<00:00,  6.61it/s]\n",
            "Class pins_Neil Patrick Harris: 100%|██████████| 116/116 [00:16<00:00,  7.09it/s]\n",
            "Class pins_Penn Badgley: 100%|██████████| 171/171 [00:25<00:00,  6.67it/s]\n",
            "Class pins_Rebecca Ferguson: 100%|██████████| 178/178 [00:31<00:00,  5.67it/s]\n",
            "Class pins_Natalie Portman: 100%|██████████| 166/166 [00:29<00:00,  5.63it/s]\n",
            "Class pins_Maria Pedraza: 100%|██████████| 122/122 [00:19<00:00,  6.19it/s]\n",
            "Class pins_melissa fumero: 100%|██████████| 154/154 [00:20<00:00,  7.34it/s]\n",
            "Class pins_Mark Ruffalo: 100%|██████████| 178/178 [00:27<00:00,  6.49it/s]\n",
            "Class pins_Millie Bobby Brown: 100%|██████████| 191/191 [00:30<00:00,  6.31it/s]\n",
            "Class pins_Mark Zuckerberg: 100%|██████████| 95/95 [00:32<00:00,  2.89it/s]\n",
            "Class pins_Miley Cyrus: 100%|██████████| 178/178 [00:27<00:00,  6.59it/s]\n",
            "Class pins_Marie Avgeropoulos: 100%|██████████| 161/161 [00:25<00:00,  6.20it/s]\n",
            "Class pins_Morgan Freeman: 100%|██████████| 105/105 [00:18<00:00,  5.61it/s]\n",
            "Class pins_Morena Baccarin: 100%|██████████| 175/175 [00:28<00:00,  6.06it/s]\n",
            "Class pins_Megan Fox: 100%|██████████| 209/209 [00:36<00:00,  5.75it/s]\n",
            "Class pins_margot robbie: 100%|██████████| 221/221 [00:38<00:00,  5.76it/s]\n",
            "Class pins_Madelaine Petsch: 100%|██████████| 192/192 [00:29<00:00,  6.53it/s]\n",
            "Class pins_Lili Reinhart: 100%|██████████| 150/150 [00:24<00:00,  6.23it/s]\n",
            "Class pins_Lionel Messi: 100%|██████████| 86/86 [00:29<00:00,  2.89it/s]\n",
            "Class pins_kiernen shipka: 100%|██████████| 203/203 [00:32<00:00,  6.22it/s]\n",
            "Class pins_Leonardo DiCaprio: 100%|██████████| 237/237 [00:33<00:00,  7.12it/s]\n",
            "Class pins_Lindsey Morgan: 100%|██████████| 169/169 [00:22<00:00,  7.35it/s]\n",
            "Class pins_Krysten Ritter: 100%|██████████| 171/171 [00:24<00:00,  6.93it/s]\n",
            "Class pins_Logan Lerman: 100%|██████████| 212/212 [00:32<00:00,  6.58it/s]\n",
            "Class pins_Maisie Williams: 100%|██████████| 193/193 [00:30<00:00,  6.28it/s]\n",
            "Class pins_Katherine Langford: 100%|██████████| 226/226 [00:39<00:00,  5.77it/s]\n",
            "Class pins_Jimmy Fallon: 100%|██████████| 113/113 [00:16<00:00,  7.05it/s]\n",
            "Class pins_Katharine Mcphee: 100%|██████████| 177/177 [00:25<00:00,  6.87it/s]\n",
            "Class pins_Johnny Depp: 100%|██████████| 182/182 [00:32<00:00,  5.56it/s]\n",
            "Class pins_jeff bezos: 100%|██████████| 106/106 [00:15<00:00,  6.95it/s]\n",
            "Class pins_Jeremy Renner: 100%|██████████| 167/167 [00:24<00:00,  6.73it/s]\n",
            "Class pins_Josh Radnor: 100%|██████████| 117/117 [00:16<00:00,  7.03it/s]\n",
            "Class pins_Jennifer Lawrence: 100%|██████████| 180/180 [00:29<00:00,  6.01it/s]\n",
            "Class pins_Jessica Barden: 100%|██████████| 141/141 [00:20<00:00,  6.89it/s]\n",
            "Class pins_Keanu Reeves: 100%|██████████| 160/160 [00:26<00:00,  6.06it/s]\n",
            "Class pins_Hugh Jackman: 100%|██████████| 179/179 [00:30<00:00,  5.93it/s]\n",
            "Class pins_Henry Cavil: 100%|██████████| 195/195 [00:34<00:00,  5.67it/s]\n",
            "Class pins_grant gustin: 100%|██████████| 183/183 [00:29<00:00,  6.26it/s]\n",
            "Class pins_Emma Watson: 100%|██████████| 211/211 [00:36<00:00,  5.82it/s]\n",
            "Class pins_Inbar Lavi: 100%|██████████| 127/127 [00:18<00:00,  7.04it/s]\n",
            "Class pins_Jason Momoa: 100%|██████████| 184/184 [00:31<00:00,  5.75it/s]\n",
            "Class pins_gal gadot: 100%|██████████| 199/199 [00:35<00:00,  5.62it/s]\n",
            "Class pins_Irina Shayk: 100%|██████████| 156/156 [00:29<00:00,  5.23it/s]\n",
            "Class pins_Gwyneth Paltrow: 100%|██████████| 187/187 [00:28<00:00,  6.57it/s]\n",
            "Class pins_Jake Mcdorman: 100%|██████████| 159/159 [00:23<00:00,  6.78it/s]\n",
            "Class pins_Emma Stone: 100%|██████████| 139/139 [00:23<00:00,  5.79it/s]\n",
            "Class pins_elizabeth olsen: 100%|██████████| 221/221 [00:38<00:00,  5.81it/s]\n",
            "Class pins_Eliza Taylor: 100%|██████████| 162/162 [00:24<00:00,  6.58it/s]\n",
            "Class pins_Dominic Purcell: 100%|██████████| 146/146 [00:22<00:00,  6.49it/s]\n",
            "Class pins_elon musk: 100%|██████████| 135/135 [00:20<00:00,  6.55it/s]\n",
            "Class pins_ellen page: 100%|██████████| 188/188 [00:34<00:00,  5.45it/s]\n",
            "Class pins_Dwayne Johnson: 100%|██████████| 141/141 [00:24<00:00,  5.77it/s]\n",
            "Class pins_Elizabeth Lail: 100%|██████████| 36/36 [00:13<00:00,  2.68it/s]\n",
            "Class pins_Emilia Clarke: 100%|██████████| 210/210 [00:34<00:00,  6.01it/s]\n",
            "Class pins_Danielle Panabaker: 100%|██████████| 181/181 [00:27<00:00,  6.67it/s]\n",
            "Class pins_Brie Larson: 100%|██████████| 169/169 [00:26<00:00,  6.31it/s]\n",
            "Class pins_Cristiano Ronaldo: 100%|██████████| 98/98 [00:35<00:00,  2.73it/s]\n",
            "Class pins_camila mendes: 100%|██████████| 162/162 [00:30<00:00,  5.29it/s]\n",
            "Class pins_Brian J. Smith: 100%|██████████| 102/102 [00:17<00:00,  5.84it/s]\n",
            "Class pins_Christian Bale: 100%|██████████| 154/154 [00:27<00:00,  5.56it/s]\n",
            "Class pins_Chris Hemsworth: 100%|██████████| 159/159 [00:26<00:00,  6.02it/s]\n",
            "Class pins_Chris Pratt: 100%|██████████| 176/176 [00:27<00:00,  6.45it/s]\n",
            "Class pins_Bobby Morley: 100%|██████████| 138/138 [00:23<00:00,  5.93it/s]\n",
            "Class pins_Brenton Thwaites: 100%|██████████| 209/209 [00:35<00:00,  5.86it/s]\n",
            "Class pins_Chris Evans: 100%|██████████| 166/166 [00:27<00:00,  5.95it/s]\n",
            "Class pins_barack obama: 100%|██████████| 119/119 [00:17<00:00,  6.62it/s]\n",
            "Class pins_Ben Affleck: 100%|██████████| 126/126 [00:22<00:00,  5.62it/s]\n",
            "Class pins_Amanda Crew: 100%|██████████| 117/117 [00:17<00:00,  6.73it/s]\n",
            "Class pins_amber heard: 100%|██████████| 218/218 [00:40<00:00,  5.44it/s]\n",
            "Class pins_Anne Hathaway: 100%|██████████| 203/203 [00:35<00:00,  5.76it/s]\n",
            "Class pins_Bill Gates: 100%|██████████| 122/122 [00:19<00:00,  6.38it/s]\n",
            "Class pins_Avril Lavigne: 100%|██████████| 162/162 [00:26<00:00,  6.08it/s]\n",
            "Class pins_Andy Samberg: 100%|██████████| 196/196 [00:33<00:00,  5.80it/s]\n",
            "Class pins_barbara palvin: 100%|██████████| 197/197 [00:45<00:00,  4.36it/s]\n",
            "Class pins_Anthony Mackie: 100%|██████████| 124/124 [00:18<00:00,  6.86it/s]\n",
            "Class pins_alycia dabnem carey: 100%|██████████| 211/211 [00:36<00:00,  5.82it/s]\n",
            "Class pins_Alvaro Morte: 100%|██████████| 139/139 [00:24<00:00,  5.65it/s]\n",
            "Class pins_Alex Lawther: 100%|██████████| 152/152 [00:22<00:00,  6.75it/s]\n",
            "Class pins_Adriana Lima: 100%|██████████| 213/213 [00:44<00:00,  4.74it/s]\n",
            "Class pins_Alexandra Daddario: 100%|██████████| 225/225 [00:41<00:00,  5.40it/s]\n",
            "Class models: 100%|██████████| 6/6 [00:00<00:00, 40524.68it/s]\n"
          ]
        }
      ]
    },
    {
      "cell_type": "code",
      "source": [],
      "metadata": {
        "id": "TTRc5-SDgfJw"
      },
      "execution_count": null,
      "outputs": []
    }
  ]
}